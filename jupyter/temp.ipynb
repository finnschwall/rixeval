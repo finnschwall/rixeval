{
 "cells": [
  {
   "cell_type": "code",
   "id": "initial_id",
   "metadata": {
    "collapsed": true,
    "ExecuteTime": {
     "end_time": "2025-06-21T08:25:19.173728Z",
     "start_time": "2025-06-21T08:25:18.805045Z"
    }
   },
   "source": [
    "from rixeval import dataload\n",
    "xaidata = dataload.XAIData()"
   ],
   "outputs": [],
   "execution_count": 1
  },
  {
   "metadata": {
    "ExecuteTime": {
     "end_time": "2025-06-21T08:25:19.190225Z",
     "start_time": "2025-06-21T08:25:19.187856Z"
    }
   },
   "cell_type": "code",
   "source": [
    "import numpy as np\n",
    "predicted_target = np.array([x[\"datapoint\"][\"predicted_target\"] for x in xaidata.datapoints])\n",
    "actual_target = np.array([x[\"actual_target\"] for x in xaidata.datapoints])"
   ],
   "id": "b10a01431198d1cb",
   "outputs": [],
   "execution_count": 2
  },
  {
   "metadata": {
    "ExecuteTime": {
     "end_time": "2025-06-21T08:25:19.391344Z",
     "start_time": "2025-06-21T08:25:19.389173Z"
    }
   },
   "cell_type": "code",
   "source": [
    "outcome_mapping = {'Check-Out': 1, 'Cancellation': 0}\n",
    "predicted_target = np.vectorize(outcome_mapping.get)(predicted_target)\n",
    "actual_target = np.vectorize(outcome_mapping.get)(actual_target)"
   ],
   "id": "824b4dfad0cf3082",
   "outputs": [],
   "execution_count": 3
  },
  {
   "metadata": {
    "ExecuteTime": {
     "end_time": "2025-06-21T08:25:34.439600Z",
     "start_time": "2025-06-21T08:25:34.433763Z"
    }
   },
   "cell_type": "code",
   "source": "np.corrcoef(predicted_target, actual_target)",
   "id": "886fa20a5ca66e92",
   "outputs": [
    {
     "data": {
      "text/plain": [
       "array([[1.        , 0.36710862],\n",
       "       [0.36710862, 1.        ]])"
      ]
     },
     "execution_count": 4,
     "metadata": {},
     "output_type": "execute_result"
    }
   ],
   "execution_count": 4
  },
  {
   "metadata": {
    "ExecuteTime": {
     "end_time": "2025-06-20T20:03:15.105100Z",
     "start_time": "2025-06-20T20:03:15.101414Z"
    }
   },
   "cell_type": "code",
   "source": "np.sum(predicted_target==actual_target)/len(predicted_target)",
   "id": "3437f28664d1b34e",
   "outputs": [
    {
     "data": {
      "text/plain": [
       "np.float64(0.7)"
      ]
     },
     "execution_count": 15,
     "metadata": {},
     "output_type": "execute_result"
    }
   ],
   "execution_count": 15
  },
  {
   "metadata": {
    "ExecuteTime": {
     "end_time": "2025-06-20T20:03:23.288703Z",
     "start_time": "2025-06-20T20:03:23.277671Z"
    }
   },
   "cell_type": "code",
   "source": [
    "false_positive_rate = np.sum((predicted_target == 1) & (actual_target == 0)) / np.sum(predicted_target == 1)\n",
    "false_positive_rate"
   ],
   "id": "f01c38ad775fff29",
   "outputs": [
    {
     "data": {
      "text/plain": [
       "np.float64(0.2222222222222222)"
      ]
     },
     "execution_count": 17,
     "metadata": {},
     "output_type": "execute_result"
    }
   ],
   "execution_count": 17
  },
  {
   "metadata": {
    "ExecuteTime": {
     "end_time": "2025-06-20T20:03:36.991983Z",
     "start_time": "2025-06-20T20:03:36.982982Z"
    }
   },
   "cell_type": "code",
   "source": [
    "false_negative_rate = np.sum((predicted_target == 0) & (actual_target == 1)) / np.sum(actual_target == 1)\n",
    "false_negative_rate"
   ],
   "id": "fdcef357bc35932c",
   "outputs": [
    {
     "data": {
      "text/plain": [
       "np.float64(0.2631578947368421)"
      ]
     },
     "execution_count": 19,
     "metadata": {},
     "output_type": "execute_result"
    }
   ],
   "execution_count": 19
  },
  {
   "metadata": {
    "ExecuteTime": {
     "end_time": "2025-06-20T19:44:38.859764Z",
     "start_time": "2025-06-20T19:44:38.854553Z"
    }
   },
   "cell_type": "code",
   "source": "xaidata.global_methods[\"histograms\"]",
   "id": "9a833111295d24a2",
   "outputs": [
    {
     "data": {
      "text/plain": [
       "                 feature_name  \\\n",
       "0                deposit_type   \n",
       "1                   lead_time   \n",
       "2                     country   \n",
       "3   total_of_special_requests   \n",
       "4                         adr   \n",
       "5    arrival_date_week_number   \n",
       "6              market_segment   \n",
       "7   arrival_date_day_of_month   \n",
       "8      previous_cancellations   \n",
       "9          arrival_date_month   \n",
       "10       stays_in_week_nights   \n",
       "11            booking_changes   \n",
       "12    stays_in_weekend_nights   \n",
       "13         reserved_room_type   \n",
       "14                     adults   \n",
       "15                      hotel   \n",
       "16                   children   \n",
       "\n",
       "                          explanation_split_by_target  \\\n",
       "0   Distribution of Deposit Type by reservation st...   \n",
       "1   Distribution of Lead Time by reservation statu...   \n",
       "2   Distribution of Country by reservation status:...   \n",
       "3   Distribution of Total Of Special Requests by r...   \n",
       "4   Distribution of ADR by reservation status:\\nCa...   \n",
       "5   Distribution of Arrival Date Week Number by re...   \n",
       "6   Distribution of Market Segment by reservation ...   \n",
       "7   Distribution of Arrival Date Day Of Month by r...   \n",
       "8   Distribution of Previous Cancellations by rese...   \n",
       "9   Distribution of Arrival Date Month by reservat...   \n",
       "10  Distribution of Stays In Week Nights by reserv...   \n",
       "11  Distribution of Booking Changes by reservation...   \n",
       "12  Distribution of Stays In Weekend Nights by res...   \n",
       "13  Distribution of Reserved Room Type by reservat...   \n",
       "14  Distribution of Adults by reservation status:\\...   \n",
       "15  Distribution of Hotel by reservation status:\\n...   \n",
       "16  Distribution of Children by reservation status...   \n",
       "\n",
       "                                 explanation_no_split  \n",
       "0   Distribution of Deposit Type:\\n  - No Deposit:...  \n",
       "1   Distribution of Lead Time:\\n  - Min: 0.00\\n  -...  \n",
       "2   Distribution of Country:\\n  - AGO: 39 bookings...  \n",
       "3   Distribution of Total Of Special Requests:\\n  ...  \n",
       "4   Distribution of ADR:\\n  - Min: 0.00\\n  - Max: ...  \n",
       "5   Distribution of Arrival Date Week Number:\\n  -...  \n",
       "6   Distribution of Market Segment:\\n  - Aviation:...  \n",
       "7   Distribution of Arrival Date Day Of Month:\\n  ...  \n",
       "8   Distribution of Previous Cancellations:\\n  - M...  \n",
       "9   Distribution of Arrival Date Month:\\n  - April...  \n",
       "10  Distribution of Stays In Week Nights:\\n  - Min...  \n",
       "11  Distribution of Booking Changes:\\n  - Min: 0.0...  \n",
       "12  Distribution of Stays In Weekend Nights:\\n  - ...  \n",
       "13  Distribution of Reserved Room Type:\\n  - Delux...  \n",
       "14  Distribution of Adults:\\n  - Min: 0.00\\n  - Ma...  \n",
       "15  Distribution of Hotel:\\n  - City Hotel: 15589 ...  \n",
       "16  Distribution of Children:\\n  - Min: 0.00\\n  - ...  "
      ],
      "text/html": [
       "<div>\n",
       "<style scoped>\n",
       "    .dataframe tbody tr th:only-of-type {\n",
       "        vertical-align: middle;\n",
       "    }\n",
       "\n",
       "    .dataframe tbody tr th {\n",
       "        vertical-align: top;\n",
       "    }\n",
       "\n",
       "    .dataframe thead th {\n",
       "        text-align: right;\n",
       "    }\n",
       "</style>\n",
       "<table border=\"1\" class=\"dataframe\">\n",
       "  <thead>\n",
       "    <tr style=\"text-align: right;\">\n",
       "      <th></th>\n",
       "      <th>feature_name</th>\n",
       "      <th>explanation_split_by_target</th>\n",
       "      <th>explanation_no_split</th>\n",
       "    </tr>\n",
       "  </thead>\n",
       "  <tbody>\n",
       "    <tr>\n",
       "      <th>0</th>\n",
       "      <td>deposit_type</td>\n",
       "      <td>Distribution of Deposit Type by reservation st...</td>\n",
       "      <td>Distribution of Deposit Type:\\n  - No Deposit:...</td>\n",
       "    </tr>\n",
       "    <tr>\n",
       "      <th>1</th>\n",
       "      <td>lead_time</td>\n",
       "      <td>Distribution of Lead Time by reservation statu...</td>\n",
       "      <td>Distribution of Lead Time:\\n  - Min: 0.00\\n  -...</td>\n",
       "    </tr>\n",
       "    <tr>\n",
       "      <th>2</th>\n",
       "      <td>country</td>\n",
       "      <td>Distribution of Country by reservation status:...</td>\n",
       "      <td>Distribution of Country:\\n  - AGO: 39 bookings...</td>\n",
       "    </tr>\n",
       "    <tr>\n",
       "      <th>3</th>\n",
       "      <td>total_of_special_requests</td>\n",
       "      <td>Distribution of Total Of Special Requests by r...</td>\n",
       "      <td>Distribution of Total Of Special Requests:\\n  ...</td>\n",
       "    </tr>\n",
       "    <tr>\n",
       "      <th>4</th>\n",
       "      <td>adr</td>\n",
       "      <td>Distribution of ADR by reservation status:\\nCa...</td>\n",
       "      <td>Distribution of ADR:\\n  - Min: 0.00\\n  - Max: ...</td>\n",
       "    </tr>\n",
       "    <tr>\n",
       "      <th>5</th>\n",
       "      <td>arrival_date_week_number</td>\n",
       "      <td>Distribution of Arrival Date Week Number by re...</td>\n",
       "      <td>Distribution of Arrival Date Week Number:\\n  -...</td>\n",
       "    </tr>\n",
       "    <tr>\n",
       "      <th>6</th>\n",
       "      <td>market_segment</td>\n",
       "      <td>Distribution of Market Segment by reservation ...</td>\n",
       "      <td>Distribution of Market Segment:\\n  - Aviation:...</td>\n",
       "    </tr>\n",
       "    <tr>\n",
       "      <th>7</th>\n",
       "      <td>arrival_date_day_of_month</td>\n",
       "      <td>Distribution of Arrival Date Day Of Month by r...</td>\n",
       "      <td>Distribution of Arrival Date Day Of Month:\\n  ...</td>\n",
       "    </tr>\n",
       "    <tr>\n",
       "      <th>8</th>\n",
       "      <td>previous_cancellations</td>\n",
       "      <td>Distribution of Previous Cancellations by rese...</td>\n",
       "      <td>Distribution of Previous Cancellations:\\n  - M...</td>\n",
       "    </tr>\n",
       "    <tr>\n",
       "      <th>9</th>\n",
       "      <td>arrival_date_month</td>\n",
       "      <td>Distribution of Arrival Date Month by reservat...</td>\n",
       "      <td>Distribution of Arrival Date Month:\\n  - April...</td>\n",
       "    </tr>\n",
       "    <tr>\n",
       "      <th>10</th>\n",
       "      <td>stays_in_week_nights</td>\n",
       "      <td>Distribution of Stays In Week Nights by reserv...</td>\n",
       "      <td>Distribution of Stays In Week Nights:\\n  - Min...</td>\n",
       "    </tr>\n",
       "    <tr>\n",
       "      <th>11</th>\n",
       "      <td>booking_changes</td>\n",
       "      <td>Distribution of Booking Changes by reservation...</td>\n",
       "      <td>Distribution of Booking Changes:\\n  - Min: 0.0...</td>\n",
       "    </tr>\n",
       "    <tr>\n",
       "      <th>12</th>\n",
       "      <td>stays_in_weekend_nights</td>\n",
       "      <td>Distribution of Stays In Weekend Nights by res...</td>\n",
       "      <td>Distribution of Stays In Weekend Nights:\\n  - ...</td>\n",
       "    </tr>\n",
       "    <tr>\n",
       "      <th>13</th>\n",
       "      <td>reserved_room_type</td>\n",
       "      <td>Distribution of Reserved Room Type by reservat...</td>\n",
       "      <td>Distribution of Reserved Room Type:\\n  - Delux...</td>\n",
       "    </tr>\n",
       "    <tr>\n",
       "      <th>14</th>\n",
       "      <td>adults</td>\n",
       "      <td>Distribution of Adults by reservation status:\\...</td>\n",
       "      <td>Distribution of Adults:\\n  - Min: 0.00\\n  - Ma...</td>\n",
       "    </tr>\n",
       "    <tr>\n",
       "      <th>15</th>\n",
       "      <td>hotel</td>\n",
       "      <td>Distribution of Hotel by reservation status:\\n...</td>\n",
       "      <td>Distribution of Hotel:\\n  - City Hotel: 15589 ...</td>\n",
       "    </tr>\n",
       "    <tr>\n",
       "      <th>16</th>\n",
       "      <td>children</td>\n",
       "      <td>Distribution of Children by reservation status...</td>\n",
       "      <td>Distribution of Children:\\n  - Min: 0.00\\n  - ...</td>\n",
       "    </tr>\n",
       "  </tbody>\n",
       "</table>\n",
       "</div>"
      ]
     },
     "execution_count": 13,
     "metadata": {},
     "output_type": "execute_result"
    }
   ],
   "execution_count": 13
  }
 ],
 "metadata": {
  "kernelspec": {
   "display_name": "Python 3",
   "language": "python",
   "name": "python3"
  },
  "language_info": {
   "codemirror_mode": {
    "name": "ipython",
    "version": 2
   },
   "file_extension": ".py",
   "mimetype": "text/x-python",
   "name": "python",
   "nbconvert_exporter": "python",
   "pygments_lexer": "ipython2",
   "version": "2.7.6"
  }
 },
 "nbformat": 4,
 "nbformat_minor": 5
}
